{
 "cells": [
  {
   "cell_type": "code",
   "execution_count": 6,
   "id": "1203ad80",
   "metadata": {},
   "outputs": [
    {
     "name": "stdout",
     "output_type": "stream",
     "text": [
      "Enter URL https://www.linkedin.com/in/praveen-kumar-a339431b7/\n",
      "Shotened URLS is :  https://tinyurl.com/22m97xgz\n"
     ]
    }
   ],
   "source": [
    "import pyshorteners\n",
    "long_urls = input(\"Enter URL \")\n",
    "\n",
    "#TinyURL shortner Services \n",
    "type_tiny= pyshorteners.Shortener()\n",
    "short_url = type_tiny.tinyurl.short(long_urls)\n",
    "print(\"Shotened URLS is : \",short_url)"
   ]
  }
 ],
 "metadata": {
  "kernelspec": {
   "display_name": "Python 3 (ipykernel)",
   "language": "python",
   "name": "python3"
  },
  "language_info": {
   "codemirror_mode": {
    "name": "ipython",
    "version": 3
   },
   "file_extension": ".py",
   "mimetype": "text/x-python",
   "name": "python",
   "nbconvert_exporter": "python",
   "pygments_lexer": "ipython3",
   "version": "3.9.13"
  }
 },
 "nbformat": 4,
 "nbformat_minor": 5
}
